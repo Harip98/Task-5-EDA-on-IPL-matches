{
 "cells": [
  {
   "cell_type": "markdown",
   "metadata": {},
   "source": [
    "## Task Explanation"
   ]
  },
  {
   "cell_type": "markdown",
   "metadata": {},
   "source": [
    "Perform ‘Exploratory Data Analysis’ on dataset ‘Indian Premier League’. \n",
    "\n",
    "As a sports analysts, find out the most successful teams, players and factors\n",
    "contributing win or loss of a team.\n",
    "\n",
    "Suggest teams or players a company should endorse for its products."
   ]
  },
  {
   "cell_type": "markdown",
   "metadata": {},
   "source": [
    "## Import"
   ]
  },
  {
   "cell_type": "code",
   "execution_count": 1,
   "metadata": {},
   "outputs": [],
   "source": [
    "import pandas as pd\n",
    "pd.set_option('display.max_column', None)\n",
    "import numpy as np\n",
    "import matplotlib.pyplot as plt\n",
    "%matplotlib inline\n",
    "import seaborn as sns\n",
    "from collections import Counter, defaultdict\n",
    "import ipywidgets as widgets\n"
   ]
  },
  {
   "cell_type": "markdown",
   "metadata": {},
   "source": [
    "## Load data"
   ]
  },
  {
   "cell_type": "code",
   "execution_count": 2,
   "metadata": {},
   "outputs": [],
   "source": [
    "d_data =  pd.read_csv('deliveries.csv')\n",
    "m_data = pd.read_csv('matches.csv')"
   ]
  },
  {
   "cell_type": "code",
   "execution_count": 3,
   "metadata": {},
   "outputs": [
    {
     "data": {
      "text/html": [
       "<div>\n",
       "<style scoped>\n",
       "    .dataframe tbody tr th:only-of-type {\n",
       "        vertical-align: middle;\n",
       "    }\n",
       "\n",
       "    .dataframe tbody tr th {\n",
       "        vertical-align: top;\n",
       "    }\n",
       "\n",
       "    .dataframe thead th {\n",
       "        text-align: right;\n",
       "    }\n",
       "</style>\n",
       "<table border=\"1\" class=\"dataframe\">\n",
       "  <thead>\n",
       "    <tr style=\"text-align: right;\">\n",
       "      <th></th>\n",
       "      <th>id</th>\n",
       "      <th>season</th>\n",
       "      <th>city</th>\n",
       "      <th>date</th>\n",
       "      <th>team1</th>\n",
       "      <th>team2</th>\n",
       "      <th>toss_winner</th>\n",
       "      <th>toss_decision</th>\n",
       "      <th>result</th>\n",
       "      <th>dl_applied</th>\n",
       "      <th>winner</th>\n",
       "      <th>win_by_runs</th>\n",
       "      <th>win_by_wickets</th>\n",
       "      <th>player_of_match</th>\n",
       "      <th>venue</th>\n",
       "      <th>umpire1</th>\n",
       "      <th>umpire2</th>\n",
       "      <th>umpire3</th>\n",
       "    </tr>\n",
       "  </thead>\n",
       "  <tbody>\n",
       "    <tr>\n",
       "      <th>0</th>\n",
       "      <td>1</td>\n",
       "      <td>2017</td>\n",
       "      <td>Hyderabad</td>\n",
       "      <td>2017-04-05</td>\n",
       "      <td>Sunrisers Hyderabad</td>\n",
       "      <td>Royal Challengers Bangalore</td>\n",
       "      <td>Royal Challengers Bangalore</td>\n",
       "      <td>field</td>\n",
       "      <td>normal</td>\n",
       "      <td>0</td>\n",
       "      <td>Sunrisers Hyderabad</td>\n",
       "      <td>35</td>\n",
       "      <td>0</td>\n",
       "      <td>Yuvraj Singh</td>\n",
       "      <td>Rajiv Gandhi International Stadium, Uppal</td>\n",
       "      <td>AY Dandekar</td>\n",
       "      <td>NJ Llong</td>\n",
       "      <td>NaN</td>\n",
       "    </tr>\n",
       "    <tr>\n",
       "      <th>1</th>\n",
       "      <td>2</td>\n",
       "      <td>2017</td>\n",
       "      <td>Pune</td>\n",
       "      <td>2017-04-06</td>\n",
       "      <td>Mumbai Indians</td>\n",
       "      <td>Rising Pune Supergiant</td>\n",
       "      <td>Rising Pune Supergiant</td>\n",
       "      <td>field</td>\n",
       "      <td>normal</td>\n",
       "      <td>0</td>\n",
       "      <td>Rising Pune Supergiant</td>\n",
       "      <td>0</td>\n",
       "      <td>7</td>\n",
       "      <td>SPD Smith</td>\n",
       "      <td>Maharashtra Cricket Association Stadium</td>\n",
       "      <td>A Nand Kishore</td>\n",
       "      <td>S Ravi</td>\n",
       "      <td>NaN</td>\n",
       "    </tr>\n",
       "    <tr>\n",
       "      <th>2</th>\n",
       "      <td>3</td>\n",
       "      <td>2017</td>\n",
       "      <td>Rajkot</td>\n",
       "      <td>2017-04-07</td>\n",
       "      <td>Gujarat Lions</td>\n",
       "      <td>Kolkata Knight Riders</td>\n",
       "      <td>Kolkata Knight Riders</td>\n",
       "      <td>field</td>\n",
       "      <td>normal</td>\n",
       "      <td>0</td>\n",
       "      <td>Kolkata Knight Riders</td>\n",
       "      <td>0</td>\n",
       "      <td>10</td>\n",
       "      <td>CA Lynn</td>\n",
       "      <td>Saurashtra Cricket Association Stadium</td>\n",
       "      <td>Nitin Menon</td>\n",
       "      <td>CK Nandan</td>\n",
       "      <td>NaN</td>\n",
       "    </tr>\n",
       "    <tr>\n",
       "      <th>3</th>\n",
       "      <td>4</td>\n",
       "      <td>2017</td>\n",
       "      <td>Indore</td>\n",
       "      <td>2017-04-08</td>\n",
       "      <td>Rising Pune Supergiant</td>\n",
       "      <td>Kings XI Punjab</td>\n",
       "      <td>Kings XI Punjab</td>\n",
       "      <td>field</td>\n",
       "      <td>normal</td>\n",
       "      <td>0</td>\n",
       "      <td>Kings XI Punjab</td>\n",
       "      <td>0</td>\n",
       "      <td>6</td>\n",
       "      <td>GJ Maxwell</td>\n",
       "      <td>Holkar Cricket Stadium</td>\n",
       "      <td>AK Chaudhary</td>\n",
       "      <td>C Shamshuddin</td>\n",
       "      <td>NaN</td>\n",
       "    </tr>\n",
       "    <tr>\n",
       "      <th>4</th>\n",
       "      <td>5</td>\n",
       "      <td>2017</td>\n",
       "      <td>Bangalore</td>\n",
       "      <td>2017-04-08</td>\n",
       "      <td>Royal Challengers Bangalore</td>\n",
       "      <td>Delhi Daredevils</td>\n",
       "      <td>Royal Challengers Bangalore</td>\n",
       "      <td>bat</td>\n",
       "      <td>normal</td>\n",
       "      <td>0</td>\n",
       "      <td>Royal Challengers Bangalore</td>\n",
       "      <td>15</td>\n",
       "      <td>0</td>\n",
       "      <td>KM Jadhav</td>\n",
       "      <td>M Chinnaswamy Stadium</td>\n",
       "      <td>NaN</td>\n",
       "      <td>NaN</td>\n",
       "      <td>NaN</td>\n",
       "    </tr>\n",
       "  </tbody>\n",
       "</table>\n",
       "</div>"
      ],
      "text/plain": [
       "   id  season       city        date                        team1  \\\n",
       "0   1    2017  Hyderabad  2017-04-05          Sunrisers Hyderabad   \n",
       "1   2    2017       Pune  2017-04-06               Mumbai Indians   \n",
       "2   3    2017     Rajkot  2017-04-07                Gujarat Lions   \n",
       "3   4    2017     Indore  2017-04-08       Rising Pune Supergiant   \n",
       "4   5    2017  Bangalore  2017-04-08  Royal Challengers Bangalore   \n",
       "\n",
       "                         team2                  toss_winner toss_decision  \\\n",
       "0  Royal Challengers Bangalore  Royal Challengers Bangalore         field   \n",
       "1       Rising Pune Supergiant       Rising Pune Supergiant         field   \n",
       "2        Kolkata Knight Riders        Kolkata Knight Riders         field   \n",
       "3              Kings XI Punjab              Kings XI Punjab         field   \n",
       "4             Delhi Daredevils  Royal Challengers Bangalore           bat   \n",
       "\n",
       "   result  dl_applied                       winner  win_by_runs  \\\n",
       "0  normal           0          Sunrisers Hyderabad           35   \n",
       "1  normal           0       Rising Pune Supergiant            0   \n",
       "2  normal           0        Kolkata Knight Riders            0   \n",
       "3  normal           0              Kings XI Punjab            0   \n",
       "4  normal           0  Royal Challengers Bangalore           15   \n",
       "\n",
       "   win_by_wickets player_of_match                                      venue  \\\n",
       "0               0    Yuvraj Singh  Rajiv Gandhi International Stadium, Uppal   \n",
       "1               7       SPD Smith    Maharashtra Cricket Association Stadium   \n",
       "2              10         CA Lynn     Saurashtra Cricket Association Stadium   \n",
       "3               6      GJ Maxwell                     Holkar Cricket Stadium   \n",
       "4               0       KM Jadhav                      M Chinnaswamy Stadium   \n",
       "\n",
       "          umpire1        umpire2 umpire3  \n",
       "0     AY Dandekar       NJ Llong     NaN  \n",
       "1  A Nand Kishore         S Ravi     NaN  \n",
       "2     Nitin Menon      CK Nandan     NaN  \n",
       "3    AK Chaudhary  C Shamshuddin     NaN  \n",
       "4             NaN            NaN     NaN  "
      ]
     },
     "execution_count": 3,
     "metadata": {},
     "output_type": "execute_result"
    }
   ],
   "source": [
    "m_data.head()"
   ]
  },
  {
   "cell_type": "code",
   "execution_count": 4,
   "metadata": {
    "scrolled": true
   },
   "outputs": [
    {
     "data": {
      "text/html": [
       "<div>\n",
       "<style scoped>\n",
       "    .dataframe tbody tr th:only-of-type {\n",
       "        vertical-align: middle;\n",
       "    }\n",
       "\n",
       "    .dataframe tbody tr th {\n",
       "        vertical-align: top;\n",
       "    }\n",
       "\n",
       "    .dataframe thead th {\n",
       "        text-align: right;\n",
       "    }\n",
       "</style>\n",
       "<table border=\"1\" class=\"dataframe\">\n",
       "  <thead>\n",
       "    <tr style=\"text-align: right;\">\n",
       "      <th></th>\n",
       "      <th>match_id</th>\n",
       "      <th>inning</th>\n",
       "      <th>batting_team</th>\n",
       "      <th>bowling_team</th>\n",
       "      <th>over</th>\n",
       "      <th>ball</th>\n",
       "      <th>batsman</th>\n",
       "      <th>non_striker</th>\n",
       "      <th>bowler</th>\n",
       "      <th>is_super_over</th>\n",
       "      <th>wide_runs</th>\n",
       "      <th>bye_runs</th>\n",
       "      <th>legbye_runs</th>\n",
       "      <th>noball_runs</th>\n",
       "      <th>penalty_runs</th>\n",
       "      <th>batsman_runs</th>\n",
       "      <th>extra_runs</th>\n",
       "      <th>total_runs</th>\n",
       "      <th>player_dismissed</th>\n",
       "      <th>dismissal_kind</th>\n",
       "      <th>fielder</th>\n",
       "    </tr>\n",
       "  </thead>\n",
       "  <tbody>\n",
       "    <tr>\n",
       "      <th>0</th>\n",
       "      <td>1</td>\n",
       "      <td>1</td>\n",
       "      <td>Sunrisers Hyderabad</td>\n",
       "      <td>Royal Challengers Bangalore</td>\n",
       "      <td>1</td>\n",
       "      <td>1</td>\n",
       "      <td>DA Warner</td>\n",
       "      <td>S Dhawan</td>\n",
       "      <td>TS Mills</td>\n",
       "      <td>0</td>\n",
       "      <td>0</td>\n",
       "      <td>0</td>\n",
       "      <td>0</td>\n",
       "      <td>0</td>\n",
       "      <td>0</td>\n",
       "      <td>0</td>\n",
       "      <td>0</td>\n",
       "      <td>0</td>\n",
       "      <td>NaN</td>\n",
       "      <td>NaN</td>\n",
       "      <td>NaN</td>\n",
       "    </tr>\n",
       "    <tr>\n",
       "      <th>1</th>\n",
       "      <td>1</td>\n",
       "      <td>1</td>\n",
       "      <td>Sunrisers Hyderabad</td>\n",
       "      <td>Royal Challengers Bangalore</td>\n",
       "      <td>1</td>\n",
       "      <td>2</td>\n",
       "      <td>DA Warner</td>\n",
       "      <td>S Dhawan</td>\n",
       "      <td>TS Mills</td>\n",
       "      <td>0</td>\n",
       "      <td>0</td>\n",
       "      <td>0</td>\n",
       "      <td>0</td>\n",
       "      <td>0</td>\n",
       "      <td>0</td>\n",
       "      <td>0</td>\n",
       "      <td>0</td>\n",
       "      <td>0</td>\n",
       "      <td>NaN</td>\n",
       "      <td>NaN</td>\n",
       "      <td>NaN</td>\n",
       "    </tr>\n",
       "    <tr>\n",
       "      <th>2</th>\n",
       "      <td>1</td>\n",
       "      <td>1</td>\n",
       "      <td>Sunrisers Hyderabad</td>\n",
       "      <td>Royal Challengers Bangalore</td>\n",
       "      <td>1</td>\n",
       "      <td>3</td>\n",
       "      <td>DA Warner</td>\n",
       "      <td>S Dhawan</td>\n",
       "      <td>TS Mills</td>\n",
       "      <td>0</td>\n",
       "      <td>0</td>\n",
       "      <td>0</td>\n",
       "      <td>0</td>\n",
       "      <td>0</td>\n",
       "      <td>0</td>\n",
       "      <td>4</td>\n",
       "      <td>0</td>\n",
       "      <td>4</td>\n",
       "      <td>NaN</td>\n",
       "      <td>NaN</td>\n",
       "      <td>NaN</td>\n",
       "    </tr>\n",
       "    <tr>\n",
       "      <th>3</th>\n",
       "      <td>1</td>\n",
       "      <td>1</td>\n",
       "      <td>Sunrisers Hyderabad</td>\n",
       "      <td>Royal Challengers Bangalore</td>\n",
       "      <td>1</td>\n",
       "      <td>4</td>\n",
       "      <td>DA Warner</td>\n",
       "      <td>S Dhawan</td>\n",
       "      <td>TS Mills</td>\n",
       "      <td>0</td>\n",
       "      <td>0</td>\n",
       "      <td>0</td>\n",
       "      <td>0</td>\n",
       "      <td>0</td>\n",
       "      <td>0</td>\n",
       "      <td>0</td>\n",
       "      <td>0</td>\n",
       "      <td>0</td>\n",
       "      <td>NaN</td>\n",
       "      <td>NaN</td>\n",
       "      <td>NaN</td>\n",
       "    </tr>\n",
       "    <tr>\n",
       "      <th>4</th>\n",
       "      <td>1</td>\n",
       "      <td>1</td>\n",
       "      <td>Sunrisers Hyderabad</td>\n",
       "      <td>Royal Challengers Bangalore</td>\n",
       "      <td>1</td>\n",
       "      <td>5</td>\n",
       "      <td>DA Warner</td>\n",
       "      <td>S Dhawan</td>\n",
       "      <td>TS Mills</td>\n",
       "      <td>0</td>\n",
       "      <td>2</td>\n",
       "      <td>0</td>\n",
       "      <td>0</td>\n",
       "      <td>0</td>\n",
       "      <td>0</td>\n",
       "      <td>0</td>\n",
       "      <td>2</td>\n",
       "      <td>2</td>\n",
       "      <td>NaN</td>\n",
       "      <td>NaN</td>\n",
       "      <td>NaN</td>\n",
       "    </tr>\n",
       "  </tbody>\n",
       "</table>\n",
       "</div>"
      ],
      "text/plain": [
       "   match_id  inning         batting_team                 bowling_team  over  \\\n",
       "0         1       1  Sunrisers Hyderabad  Royal Challengers Bangalore     1   \n",
       "1         1       1  Sunrisers Hyderabad  Royal Challengers Bangalore     1   \n",
       "2         1       1  Sunrisers Hyderabad  Royal Challengers Bangalore     1   \n",
       "3         1       1  Sunrisers Hyderabad  Royal Challengers Bangalore     1   \n",
       "4         1       1  Sunrisers Hyderabad  Royal Challengers Bangalore     1   \n",
       "\n",
       "   ball    batsman non_striker    bowler  is_super_over  wide_runs  bye_runs  \\\n",
       "0     1  DA Warner    S Dhawan  TS Mills              0          0         0   \n",
       "1     2  DA Warner    S Dhawan  TS Mills              0          0         0   \n",
       "2     3  DA Warner    S Dhawan  TS Mills              0          0         0   \n",
       "3     4  DA Warner    S Dhawan  TS Mills              0          0         0   \n",
       "4     5  DA Warner    S Dhawan  TS Mills              0          2         0   \n",
       "\n",
       "   legbye_runs  noball_runs  penalty_runs  batsman_runs  extra_runs  \\\n",
       "0            0            0             0             0           0   \n",
       "1            0            0             0             0           0   \n",
       "2            0            0             0             4           0   \n",
       "3            0            0             0             0           0   \n",
       "4            0            0             0             0           2   \n",
       "\n",
       "   total_runs player_dismissed dismissal_kind fielder  \n",
       "0           0              NaN            NaN     NaN  \n",
       "1           0              NaN            NaN     NaN  \n",
       "2           4              NaN            NaN     NaN  \n",
       "3           0              NaN            NaN     NaN  \n",
       "4           2              NaN            NaN     NaN  "
      ]
     },
     "execution_count": 4,
     "metadata": {},
     "output_type": "execute_result"
    }
   ],
   "source": [
    "d_data.head()"
   ]
  },
  {
   "cell_type": "code",
   "execution_count": 5,
   "metadata": {},
   "outputs": [
    {
     "data": {
      "text/plain": [
       "id                   0\n",
       "season               0\n",
       "city                 7\n",
       "date                 0\n",
       "team1                0\n",
       "team2                0\n",
       "toss_winner          0\n",
       "toss_decision        0\n",
       "result               0\n",
       "dl_applied           0\n",
       "winner               4\n",
       "win_by_runs          0\n",
       "win_by_wickets       0\n",
       "player_of_match      4\n",
       "venue                0\n",
       "umpire1              2\n",
       "umpire2              2\n",
       "umpire3            637\n",
       "dtype: int64"
      ]
     },
     "execution_count": 5,
     "metadata": {},
     "output_type": "execute_result"
    }
   ],
   "source": [
    "m_data.isnull().sum()"
   ]
  },
  {
   "cell_type": "markdown",
   "metadata": {},
   "source": [
    "## Exploratory Data Analysis"
   ]
  },
  {
   "cell_type": "markdown",
   "metadata": {},
   "source": [
    "Lets visualize the number of teams in each season."
   ]
  },
  {
   "cell_type": "code",
   "execution_count": 6,
   "metadata": {},
   "outputs": [
    {
     "data": {
      "text/plain": [
       "{2016: 8,\n",
       " 2017: 8,\n",
       " 2018: 8,\n",
       " 2019: 8,\n",
       " 2008: 8,\n",
       " 2009: 8,\n",
       " 2010: 8,\n",
       " 2011: 10,\n",
       " 2012: 9,\n",
       " 2013: 9,\n",
       " 2014: 8,\n",
       " 2015: 8}"
      ]
     },
     "execution_count": 6,
     "metadata": {},
     "output_type": "execute_result"
    }
   ],
   "source": [
    "s_team_count = {}\n",
    "for i in set(m_data['season']):\n",
    "    s_team_count[i] = len(set(m_data[m_data['season'] == i].loc[:, ['team1', 'team2']].values.flatten()))\n",
    "s_team_count"
   ]
  },
  {
   "cell_type": "code",
   "execution_count": 7,
   "metadata": {},
   "outputs": [],
   "source": [
    "s_team_count = pd.DataFrame.from_dict(s_team_count, orient = 'index', columns = ['count'])\n",
    "s_team_count.index.name = 'Season'\n",
    "s_team_count.reset_index(inplace = True)\n",
    "s_team_count = s_team_count.sort_values('Season')\n",
    "s_team_count.reset_index(drop = True, inplace = True)"
   ]
  },
  {
   "cell_type": "code",
   "execution_count": 8,
   "metadata": {},
   "outputs": [
    {
     "data": {
      "image/png": "[encoded data removed]",
      "text/plain": [
       "<Figure size 432x288 with 1 Axes>"
      ]
     },
     "metadata": {
      "needs_background": "light"
     },
     "output_type": "display_data"
    }
   ],
   "source": [
    "sns.barplot(data = s_team_count, y= 'count', x = 'Season')\n",
    "plt.title('No of Teams in Each season')\n",
    "for i, v in s_team_count.iterrows():\n",
    "    plt.text(i - 0.25, v['count']+ 0.1 , str(v['count']))"
   ]
  },
  {
   "cell_type": "markdown",
   "metadata": {},
   "source": [
    "In some seasons, there were 9 or 8 teams but mostly there were only 8 teams."
   ]
  },
  {
   "cell_type": "code",
   "execution_count": 9,
   "metadata": {},
   "outputs": [
    {
     "data": {
      "text/plain": [
       "Text(0.5, 1.0, 'Total number of matches in each Season')"
      ]
     },
     "execution_count": 9,
     "metadata": {},
     "output_type": "execute_result"
    },
    {
     "data": {
      "image/png": "[encoded data removed]",
      "text/plain": [
       "<Figure size 432x288 with 1 Axes>"
      ]
     },
     "metadata": {
      "needs_background": "light"
     },
     "output_type": "display_data"
    }
   ],
   "source": [
    "s_play = m_data.groupby('season', as_index = False).count().loc[:,['season', 'id']]\n",
    "s_play.columns = ['season', 'count']\n",
    "sns.barplot(x  = 'season', y = 'count', data =s_play )\n",
    "for i, v in s_play.iterrows():\n",
    "    plt.text(i - 0.25, v['count'] + 0.35, str(v['count']))\n",
    "plt.title('Total number of matches in each Season')"
   ]
  },
  {
   "cell_type": "markdown",
   "metadata": {},
   "source": [
    "It seems 1 or 2 records of matches are missing in some season. Let's ignore it since the number of case is very low. Ideally a Season with 8 teams should have 60 matches. "
   ]
  },
  {
   "cell_type": "code",
   "execution_count": 10,
   "metadata": {
    "scrolled": true
   },
   "outputs": [
    {
     "data": {
      "application/vnd.jupyter.widget-view+json": {
       "model_id": "d633b447dac5420ab797487fab7902e4",
       "version_major": 2,
       "version_minor": 0
      },
      "text/plain": [
       "interactive(children=(IntSlider(value=2008, description='Season', max=2019, min=2008), Output()), _dom_classes…"
      ]
     },
     "metadata": {},
     "output_type": "display_data"
    }
   ],
   "source": [
    "@widgets.interact(season = widgets.IntSlider(min = 2008, max = 2019, step = 1, description = 'Season'))\n",
    "def team_matches(season):\n",
    "    t = pd.DataFrame.from_dict(Counter(m_data[m_data['season'] == season].loc[:, 'team1']) + Counter(m_data[m_data['season'] == season].loc[:,'team2']),\n",
    "                                 orient = 'index')\n",
    "    t.sort_values(0, ascending = False, inplace = True)\n",
    "    t.plot(kind = 'bar', legend = None, title = 'No of matches for each team in {} IPL'.format(season))\n",
    "    plt.xlabel('Team Name')\n",
    "    plt.ylabel('Count')\n",
    "    plt.xticks(rotation = 45, ha = 'right')\n"
   ]
  },
  {
   "cell_type": "markdown",
   "metadata": {},
   "source": [
    "The above plot further verifies the missing data in some seasons."
   ]
  },
  {
   "cell_type": "code",
   "execution_count": 11,
   "metadata": {},
   "outputs": [
    {
     "data": {
      "application/vnd.jupyter.widget-view+json": {
       "model_id": "c1f138644f30443789c82e02262d1b30",
       "version_major": 2,
       "version_minor": 0
      },
      "text/plain": [
       "interactive(children=(IntSlider(value=2008, description='Season', max=2019, min=2008), Output()), _dom_classes…"
      ]
     },
     "metadata": {},
     "output_type": "display_data"
    }
   ],
   "source": [
    "@widgets.interact(season = widgets.IntSlider(min = 2008, max = 2019, step = 1, description = 'Season'))\n",
    "def season_win_percentage(season):\n",
    "    if isinstance(season, int):\n",
    "        season = [season]\n",
    "    if isinstance(season, tuple):\n",
    "        season = list(range(season[0], season[1]+1))\n",
    "        \n",
    "    fig, ax = plt.subplots(1, 2, figsize = (18, 6))\n",
    "    ## total number of wins in all season  \n",
    "    win_total = pd.DataFrame.from_dict(Counter(m_data[m_data['season'].isin(season)].loc[:, 'winner']), orient = 'index').sort_values(0, ascending = False)\n",
    "    win_total.columns = ['Total Wins']\n",
    "    win_total.drop(win_total[win_total.index.isnull()].index, inplace = True)\n",
    "\n",
    "\n",
    "    ## Total matches in all season\n",
    "    # Since some matches got cancelled due to rain, we are not accounting those matches.\n",
    "    win_total['Total Matches'] = pd.Series(Counter(m_data[m_data['season'].isin(season)].loc[:, 'team1']) + Counter(m_data[m_data['season'].isin(season)].loc[:, 'team2']) - \n",
    "            Counter(m_data[(m_data['winner'].isnull()) & (m_data['season'].isin(season))].loc[:, ['team1', 'team2']].values.flatten())) \n",
    "    win_total['Losses'] = win_total['Total Matches'] - win_total['Total Wins']\n",
    "\n",
    "    #plot 1\n",
    "    win_total.plot(kind = 'bar', y = ['Total Wins','Losses'], width = 0.8,ax = ax[0])\n",
    "    ax[0].set_title('Total number of wins & losses ')\n",
    "    ax[0].set_ylabel('Count')\n",
    "    ax[0].set_xlabel('Team Name')\n",
    "    ax[0].set_xticklabels(ax[0].get_xticklabels(), rotation = 45, ha ='right')\n",
    "\n",
    "\n",
    "    win_total['Percentage Win'] = win_total['Total Wins'] / win_total['Total Matches'] * 100\n",
    "\n",
    "    # plot2\n",
    "    win_total.plot(kind = 'bar', y = 'Percentage Win', legend = None, title = 'Percentage win', ax = ax[1])\n",
    "    ax[1].set_ylabel('Number of Wins')\n",
    "    ax[1].set_xlabel('Team Name')\n",
    "    ax[1].set_xticklabels(ax[1].get_xticklabels(), rotation = 45, ha ='right')\n",
    "    ax[1].set_ylim([0, 100])"
   ]
  },
  {
   "cell_type": "markdown",
   "metadata": {},
   "source": [
    "The above plot describes the seasonwise wins and losses for each season. "
   ]
  },
  {
   "cell_type": "code",
   "execution_count": 12,
   "metadata": {},
   "outputs": [
    {
     "data": {
      "application/vnd.jupyter.widget-view+json": {
       "model_id": "6c9963d676b8426d8ccdab79abfd486a",
       "version_major": 2,
       "version_minor": 0
      },
      "text/plain": [
       "interactive(children=(IntRangeSlider(value=(2010, 2016), description='Season', max=2019, min=2008), Output()),…"
      ]
     },
     "metadata": {},
     "output_type": "display_data"
    },
    {
     "data": {
      "text/plain": [
       "<function __main__.season_win_percentage(season)>"
      ]
     },
     "execution_count": 12,
     "metadata": {},
     "output_type": "execute_result"
    }
   ],
   "source": [
    "widgets.interact(season_win_percentage, season = widgets.IntRangeSlider(min = 2008, max = 2019, description = 'Season'))"
   ]
  },
  {
   "cell_type": "code",
   "execution_count": 13,
   "metadata": {
    "scrolled": false
   },
   "outputs": [
    {
     "data": {
      "image/png": "[encoded data removed]",
      "text/plain": [
       "<Figure size 1296x432 with 2 Axes>"
      ]
     },
     "metadata": {
      "needs_background": "light"
     },
     "output_type": "display_data"
    }
   ],
   "source": [
    "season_win_percentage(list(set(m_data['season'])))"
   ]
  },
  {
   "cell_type": "code",
   "execution_count": 14,
   "metadata": {
    "scrolled": false
   },
   "outputs": [
    {
     "data": {
      "text/html": [
       "<div>\n",
       "<style scoped>\n",
       "    .dataframe tbody tr th:only-of-type {\n",
       "        vertical-align: middle;\n",
       "    }\n",
       "\n",
       "    .dataframe tbody tr th {\n",
       "        vertical-align: top;\n",
       "    }\n",
       "\n",
       "    .dataframe thead th {\n",
       "        text-align: right;\n",
       "    }\n",
       "</style>\n",
       "<table border=\"1\" class=\"dataframe\">\n",
       "  <thead>\n",
       "    <tr style=\"text-align: right;\">\n",
       "      <th></th>\n",
       "      <th>match_id</th>\n",
       "      <th>inning</th>\n",
       "      <th>season</th>\n",
       "      <th>batting_team</th>\n",
       "      <th>bowling_team</th>\n",
       "      <th>over</th>\n",
       "      <th>ball</th>\n",
       "      <th>batsman</th>\n",
       "      <th>non_striker</th>\n",
       "      <th>bowler</th>\n",
       "      <th>is_super_over</th>\n",
       "      <th>wide_runs</th>\n",
       "      <th>bye_runs</th>\n",
       "      <th>legbye_runs</th>\n",
       "      <th>noball_runs</th>\n",
       "      <th>penalty_runs</th>\n",
       "      <th>batsman_runs</th>\n",
       "      <th>extra_runs</th>\n",
       "      <th>total_runs</th>\n",
       "      <th>player_dismissed</th>\n",
       "      <th>dismissal_kind</th>\n",
       "      <th>fielder</th>\n",
       "    </tr>\n",
       "  </thead>\n",
       "  <tbody>\n",
       "    <tr>\n",
       "      <th>0</th>\n",
       "      <td>1</td>\n",
       "      <td>1</td>\n",
       "      <td>2017</td>\n",
       "      <td>Sunrisers Hyderabad</td>\n",
       "      <td>Royal Challengers Bangalore</td>\n",
       "      <td>1</td>\n",
       "      <td>1</td>\n",
       "      <td>DA Warner</td>\n",
       "      <td>S Dhawan</td>\n",
       "      <td>TS Mills</td>\n",
       "      <td>0</td>\n",
       "      <td>0</td>\n",
       "      <td>0</td>\n",
       "      <td>0</td>\n",
       "      <td>0</td>\n",
       "      <td>0</td>\n",
       "      <td>0</td>\n",
       "      <td>0</td>\n",
       "      <td>0</td>\n",
       "      <td>NaN</td>\n",
       "      <td>NaN</td>\n",
       "      <td>NaN</td>\n",
       "    </tr>\n",
       "    <tr>\n",
       "      <th>1</th>\n",
       "      <td>1</td>\n",
       "      <td>1</td>\n",
       "      <td>2017</td>\n",
       "      <td>Sunrisers Hyderabad</td>\n",
       "      <td>Royal Challengers Bangalore</td>\n",
       "      <td>1</td>\n",
       "      <td>2</td>\n",
       "      <td>DA Warner</td>\n",
       "      <td>S Dhawan</td>\n",
       "      <td>TS Mills</td>\n",
       "      <td>0</td>\n",
       "      <td>0</td>\n",
       "      <td>0</td>\n",
       "      <td>0</td>\n",
       "      <td>0</td>\n",
       "      <td>0</td>\n",
       "      <td>0</td>\n",
       "      <td>0</td>\n",
       "      <td>0</td>\n",
       "      <td>NaN</td>\n",
       "      <td>NaN</td>\n",
       "      <td>NaN</td>\n",
       "    </tr>\n",
       "    <tr>\n",
       "      <th>2</th>\n",
       "      <td>1</td>\n",
       "      <td>1</td>\n",
       "      <td>2017</td>\n",
       "      <td>Sunrisers Hyderabad</td>\n",
       "      <td>Royal Challengers Bangalore</td>\n",
       "      <td>1</td>\n",
       "      <td>3</td>\n",
       "      <td>DA Warner</td>\n",
       "      <td>S Dhawan</td>\n",
       "      <td>TS Mills</td>\n",
       "      <td>0</td>\n",
       "      <td>0</td>\n",
       "      <td>0</td>\n",
       "      <td>0</td>\n",
       "      <td>0</td>\n",
       "      <td>0</td>\n",
       "      <td>4</td>\n",
       "      <td>0</td>\n",
       "      <td>4</td>\n",
       "      <td>NaN</td>\n",
       "      <td>NaN</td>\n",
       "      <td>NaN</td>\n",
       "    </tr>\n",
       "    <tr>\n",
       "      <th>3</th>\n",
       "      <td>1</td>\n",
       "      <td>1</td>\n",
       "      <td>2017</td>\n",
       "      <td>Sunrisers Hyderabad</td>\n",
       "      <td>Royal Challengers Bangalore</td>\n",
       "      <td>1</td>\n",
       "      <td>4</td>\n",
       "      <td>DA Warner</td>\n",
       "      <td>S Dhawan</td>\n",
       "      <td>TS Mills</td>\n",
       "      <td>0</td>\n",
       "      <td>0</td>\n",
       "      <td>0</td>\n",
       "      <td>0</td>\n",
       "      <td>0</td>\n",
       "      <td>0</td>\n",
       "      <td>0</td>\n",
       "      <td>0</td>\n",
       "      <td>0</td>\n",
       "      <td>NaN</td>\n",
       "      <td>NaN</td>\n",
       "      <td>NaN</td>\n",
       "    </tr>\n",
       "    <tr>\n",
       "      <th>4</th>\n",
       "      <td>1</td>\n",
       "      <td>1</td>\n",
       "      <td>2017</td>\n",
       "      <td>Sunrisers Hyderabad</td>\n",
       "      <td>Royal Challengers Bangalore</td>\n",
       "      <td>1</td>\n",
       "      <td>5</td>\n",
       "      <td>DA Warner</td>\n",
       "      <td>S Dhawan</td>\n",
       "      <td>TS Mills</td>\n",
       "      <td>0</td>\n",
       "      <td>2</td>\n",
       "      <td>0</td>\n",
       "      <td>0</td>\n",
       "      <td>0</td>\n",
       "      <td>0</td>\n",
       "      <td>0</td>\n",
       "      <td>2</td>\n",
       "      <td>2</td>\n",
       "      <td>NaN</td>\n",
       "      <td>NaN</td>\n",
       "      <td>NaN</td>\n",
       "    </tr>\n",
       "  </tbody>\n",
       "</table>\n",
       "</div>"
      ],
      "text/plain": [
       "   match_id  inning  season         batting_team                 bowling_team  \\\n",
       "0         1       1    2017  Sunrisers Hyderabad  Royal Challengers Bangalore   \n",
       "1         1       1    2017  Sunrisers Hyderabad  Royal Challengers Bangalore   \n",
       "2         1       1    2017  Sunrisers Hyderabad  Royal Challengers Bangalore   \n",
       "3         1       1    2017  Sunrisers Hyderabad  Royal Challengers Bangalore   \n",
       "4         1       1    2017  Sunrisers Hyderabad  Royal Challengers Bangalore   \n",
       "\n",
       "   over  ball    batsman non_striker    bowler  is_super_over  wide_runs  \\\n",
       "0     1     1  DA Warner    S Dhawan  TS Mills              0          0   \n",
       "1     1     2  DA Warner    S Dhawan  TS Mills              0          0   \n",
       "2     1     3  DA Warner    S Dhawan  TS Mills              0          0   \n",
       "3     1     4  DA Warner    S Dhawan  TS Mills              0          0   \n",
       "4     1     5  DA Warner    S Dhawan  TS Mills              0          2   \n",
       "\n",
       "   bye_runs  legbye_runs  noball_runs  penalty_runs  batsman_runs  extra_runs  \\\n",
       "0         0            0            0             0             0           0   \n",
       "1         0            0            0             0             0           0   \n",
       "2         0            0            0             0             4           0   \n",
       "3         0            0            0             0             0           0   \n",
       "4         0            0            0             0             0           2   \n",
       "\n",
       "   total_runs player_dismissed dismissal_kind fielder  \n",
       "0           0              NaN            NaN     NaN  \n",
       "1           0              NaN            NaN     NaN  \n",
       "2           4              NaN            NaN     NaN  \n",
       "3           0              NaN            NaN     NaN  \n",
       "4           2              NaN            NaN     NaN  "
      ]
     },
     "execution_count": 14,
     "metadata": {},
     "output_type": "execute_result"
    }
   ],
   "source": [
    "merged = pd.merge(m_data, d_data, left_on = 'id', right_on = 'match_id', how = 'inner').loc[:, ['match_id',\n",
    " 'inning',\n",
    " 'season',\n",
    " 'batting_team',\n",
    " 'bowling_team',\n",
    " 'over',\n",
    " 'ball',\n",
    " 'batsman',\n",
    " 'non_striker',\n",
    " 'bowler',\n",
    " 'is_super_over',\n",
    " 'wide_runs',\n",
    " 'bye_runs',\n",
    " 'legbye_runs',\n",
    " 'noball_runs',\n",
    " 'penalty_runs',\n",
    " 'batsman_runs',\n",
    " 'extra_runs',\n",
    " 'total_runs',\n",
    " 'player_dismissed',\n",
    " 'dismissal_kind',\n",
    " 'fielder']]             \n",
    "merged.head()"
   ]
  },
  {
   "cell_type": "code",
   "execution_count": 15,
   "metadata": {
    "scrolled": false
   },
   "outputs": [
    {
     "data": {
      "text/html": [
       "<div>\n",
       "<style scoped>\n",
       "    .dataframe tbody tr th:only-of-type {\n",
       "        vertical-align: middle;\n",
       "    }\n",
       "\n",
       "    .dataframe tbody tr th {\n",
       "        vertical-align: top;\n",
       "    }\n",
       "\n",
       "    .dataframe thead th {\n",
       "        text-align: right;\n",
       "    }\n",
       "</style>\n",
       "<table border=\"1\" class=\"dataframe\">\n",
       "  <thead>\n",
       "    <tr style=\"text-align: right;\">\n",
       "      <th></th>\n",
       "      <th>season</th>\n",
       "      <th>match_id</th>\n",
       "      <th>bowling_team</th>\n",
       "      <th>inning</th>\n",
       "      <th>over</th>\n",
       "      <th>ball</th>\n",
       "      <th>is_super_over</th>\n",
       "      <th>wide_runs</th>\n",
       "      <th>bye_runs</th>\n",
       "      <th>legbye_runs</th>\n",
       "      <th>noball_runs</th>\n",
       "      <th>penalty_runs</th>\n",
       "      <th>batsman_runs</th>\n",
       "      <th>extra_runs</th>\n",
       "      <th>total_runs</th>\n",
       "    </tr>\n",
       "  </thead>\n",
       "  <tbody>\n",
       "    <tr>\n",
       "      <th>0</th>\n",
       "      <td>2008</td>\n",
       "      <td>60</td>\n",
       "      <td>Kolkata Knight Riders</td>\n",
       "      <td>202</td>\n",
       "      <td>826</td>\n",
       "      <td>383</td>\n",
       "      <td>0</td>\n",
       "      <td>11</td>\n",
       "      <td>0</td>\n",
       "      <td>8</td>\n",
       "      <td>0</td>\n",
       "      <td>0</td>\n",
       "      <td>63</td>\n",
       "      <td>19</td>\n",
       "      <td>82</td>\n",
       "    </tr>\n",
       "    <tr>\n",
       "      <th>1</th>\n",
       "      <td>2008</td>\n",
       "      <td>60</td>\n",
       "      <td>Royal Challengers Bangalore</td>\n",
       "      <td>124</td>\n",
       "      <td>1293</td>\n",
       "      <td>448</td>\n",
       "      <td>0</td>\n",
       "      <td>9</td>\n",
       "      <td>4</td>\n",
       "      <td>4</td>\n",
       "      <td>0</td>\n",
       "      <td>0</td>\n",
       "      <td>205</td>\n",
       "      <td>17</td>\n",
       "      <td>222</td>\n",
       "    </tr>\n",
       "    <tr>\n",
       "      <th>2</th>\n",
       "      <td>2008</td>\n",
       "      <td>61</td>\n",
       "      <td>Chennai Super Kings</td>\n",
       "      <td>248</td>\n",
       "      <td>1295</td>\n",
       "      <td>449</td>\n",
       "      <td>0</td>\n",
       "      <td>5</td>\n",
       "      <td>2</td>\n",
       "      <td>4</td>\n",
       "      <td>0</td>\n",
       "      <td>0</td>\n",
       "      <td>196</td>\n",
       "      <td>11</td>\n",
       "      <td>207</td>\n",
       "    </tr>\n",
       "    <tr>\n",
       "      <th>3</th>\n",
       "      <td>2008</td>\n",
       "      <td>61</td>\n",
       "      <td>Kings XI Punjab</td>\n",
       "      <td>124</td>\n",
       "      <td>1291</td>\n",
       "      <td>449</td>\n",
       "      <td>0</td>\n",
       "      <td>3</td>\n",
       "      <td>0</td>\n",
       "      <td>2</td>\n",
       "      <td>1</td>\n",
       "      <td>0</td>\n",
       "      <td>234</td>\n",
       "      <td>6</td>\n",
       "      <td>240</td>\n",
       "    </tr>\n",
       "    <tr>\n",
       "      <th>4</th>\n",
       "      <td>2008</td>\n",
       "      <td>62</td>\n",
       "      <td>Delhi Daredevils</td>\n",
       "      <td>122</td>\n",
       "      <td>1274</td>\n",
       "      <td>434</td>\n",
       "      <td>0</td>\n",
       "      <td>3</td>\n",
       "      <td>1</td>\n",
       "      <td>3</td>\n",
       "      <td>0</td>\n",
       "      <td>0</td>\n",
       "      <td>122</td>\n",
       "      <td>7</td>\n",
       "      <td>129</td>\n",
       "    </tr>\n",
       "  </tbody>\n",
       "</table>\n",
       "</div>"
      ],
      "text/plain": [
       "   season  match_id                 bowling_team  inning  over  ball  \\\n",
       "0    2008        60        Kolkata Knight Riders     202   826   383   \n",
       "1    2008        60  Royal Challengers Bangalore     124  1293   448   \n",
       "2    2008        61          Chennai Super Kings     248  1295   449   \n",
       "3    2008        61              Kings XI Punjab     124  1291   449   \n",
       "4    2008        62             Delhi Daredevils     122  1274   434   \n",
       "\n",
       "   is_super_over  wide_runs  bye_runs  legbye_runs  noball_runs  penalty_runs  \\\n",
       "0              0         11         0            8            0             0   \n",
       "1              0          9         4            4            0             0   \n",
       "2              0          5         2            4            0             0   \n",
       "3              0          3         0            2            1             0   \n",
       "4              0          3         1            3            0             0   \n",
       "\n",
       "   batsman_runs  extra_runs  total_runs  \n",
       "0            63          19          82  \n",
       "1           205          17         222  \n",
       "2           196          11         207  \n",
       "3           234           6         240  \n",
       "4           122           7         129  "
      ]
     },
     "execution_count": 15,
     "metadata": {},
     "output_type": "execute_result"
    }
   ],
   "source": [
    "bat_merged = merged.groupby(['season', 'match_id', 'batting_team'], as_index = False).sum()\n",
    "bow_merged = merged.groupby(['season', 'match_id', 'bowling_team'], as_index = False).sum()\n",
    "bow_merged.head()"
   ]
  },
  {
   "cell_type": "code",
   "execution_count": 16,
   "metadata": {},
   "outputs": [],
   "source": [
    "sl1 = widgets.IntRangeSlider(value = None, min = 2008, max = 2019, description = 'Season')\n",
    "sl2 = widgets.Dropdown(description = 'Team name', options = list(set(merged[merged['season'].isin(list(range(sl1.value[0], sl1.value[1]+1)))].loc[:, ['batting_team', 'bowling_team']].values.flatten())))\n",
    "def f(change):\n",
    "    sl2.options = list(set(merged[merged['season'].isin(list(range(change['new'][0], change['new'][1]+1)))].loc[:, ['batting_team', 'bowling_team']].values.flatten()))\n",
    "sl1.observe(f, 'value')"
   ]
  },
  {
   "cell_type": "code",
   "execution_count": 17,
   "metadata": {},
   "outputs": [
    {
     "data": {
      "application/vnd.jupyter.widget-view+json": {
       "model_id": "21aa5c64a1b64b87abf5bfa21efa701b",
       "version_major": 2,
       "version_minor": 0
      },
      "text/plain": [
       "interactive(children=(IntRangeSlider(value=(2010, 2016), description='Season', max=2019, min=2008), Dropdown(d…"
      ]
     },
     "metadata": {},
     "output_type": "display_data"
    }
   ],
   "source": [
    "@widgets.interact(season = sl1, team_name = sl2)\n",
    "def team_stat(season, team_name):\n",
    "    if isinstance(season, int):\n",
    "        season = [season]\n",
    "    if isinstance(season, tuple):\n",
    "        season = list(range(season[0], season[1]+1))\n",
    "    fig, ax = plt.subplots(2, 2, figsize = [10, 10])\n",
    "    ## batting stats\n",
    "    data = bat_merged[(bat_merged['season'].isin(season)) & (bat_merged['batting_team'] == team_name)]\n",
    "    # Plot 1\n",
    "    data.loc[:, 'batsman_runs':].mean().plot(kind = 'bar',\n",
    "                                             title = 'Avg Runs scored', ax = ax[0, 0])\n",
    "    ax[0, 0].set_ylabel('Runs')\n",
    "    ax[0, 0].set_xticklabels(ax[0, 0].get_xticklabels(), rotation = 45, ha = 'right')\n",
    "    # Plot 2\n",
    "    data.loc[:, 'is_super_over':'penalty_runs'].mean().plot(kind = 'bar', title = 'Avg Extra Runs', ax = ax[0, 1])\n",
    "    ax[0, 1].set_ylabel('Runs')\n",
    "    ax[0, 1].set_xticklabels(ax[0, 1].get_xticklabels(), rotation = 45, ha = 'right')\n",
    "    \n",
    "    ## Bowling Stats\n",
    "    data = bow_merged[(bow_merged['season'].isin(season)) & (bat_merged['batting_team'] == team_name)]\n",
    "    # Plot 1\n",
    "    data.loc[:, 'batsman_runs':].mean().plot(kind = 'bar',\n",
    "                                             title = 'Avg Runs Opponents scored', ax = ax[1, 0])\n",
    "    ax[1, 0].set_ylabel('Runs')\n",
    "    ax[1, 0].set_xticklabels(ax[1, 0].get_xticklabels(), rotation = 45, ha = 'right')\n",
    "    # Plot 2\n",
    "    data.loc[:, 'is_super_over':'penalty_runs'].mean().plot(kind = 'bar', title = 'Avg Extra Opponents Runs', ax = ax[1, 1])\n",
    "    ax[1, 1].set_ylabel('Runs')\n",
    "    ax[1, 1].set_xticklabels(ax[1, 1].get_xticklabels(), rotation = 45, ha = 'right')\n",
    "    \n",
    "    plt.tight_layout()"
   ]
  },
  {
   "cell_type": "code",
   "execution_count": 18,
   "metadata": {},
   "outputs": [
    {
     "data": {
      "text/plain": [
       "Text(0, 0.5, 'Player Name')"
      ]
     },
     "execution_count": 18,
     "metadata": {},
     "output_type": "execute_result"
    },
    {
     "data": {
      "image/png": "[encoded data removed]",
      "text/plain": [
       "<Figure size 432x288 with 1 Axes>"
      ]
     },
     "metadata": {
      "needs_background": "light"
     },
     "output_type": "display_data"
    }
   ],
   "source": [
    "merged.groupby('batsman').sum().sort_values(['batsman_runs'], \n",
    "                    ascending  = True)['batsman_runs'][-15:].plot(kind = 'barh', title = 'Batsmen list')\n",
    "plt.xlabel('Runs scored')\n",
    "plt.ylabel('Player Name')"
   ]
  },
  {
   "cell_type": "code",
   "execution_count": 19,
   "metadata": {},
   "outputs": [
    {
     "data": {
      "text/plain": [
       "Text(0, 0.5, 'Player Name')"
      ]
     },
     "execution_count": 19,
     "metadata": {},
     "output_type": "execute_result"
    },
    {
     "data": {
      "image/png": "[encoded data removed]",
      "text/plain": [
       "<Figure size 432x288 with 1 Axes>"
      ]
     },
     "metadata": {
      "needs_background": "light"
     },
     "output_type": "display_data"
    }
   ],
   "source": [
    "pd.DataFrame.from_dict(Counter(merged.dropna(subset = ['player_dismissed']).loc[:, 'bowler'].values), orient = 'index').sort_values(0, \n",
    "                            ascending = True)[-15:].plot(kind = 'barh', title = 'bowlers List', legend = None)\n",
    "plt.xlabel('No of Wickets')\n",
    "plt.ylabel('Player Name')"
   ]
  },
  {
   "cell_type": "code",
   "execution_count": 20,
   "metadata": {},
   "outputs": [
    {
     "data": {
      "application/vnd.jupyter.widget-view+json": {
       "model_id": "33061c45dddf4fc7bcd6b9ead6b3c96d",
       "version_major": 2,
       "version_minor": 0
      },
      "text/plain": [
       "interactive(children=(IntRangeSlider(value=(2010, 2016), description='season', max=2019, min=2008), Output()),…"
      ]
     },
     "metadata": {},
     "output_type": "display_data"
    }
   ],
   "source": [
    "@widgets.interact(season = widgets.IntRangeSlider(min = 2008, max = 2019))\n",
    "def player_stat(season):\n",
    "    if isinstance(season, int):\n",
    "        season = [season]\n",
    "    if isinstance(season, tuple):\n",
    "        season = list(range(season[0], season[1]+1))\n",
    "    merged[merged['season'].isin(season)].groupby('batsman').sum().sort_values(['batsman_runs'], \n",
    "                    ascending  = True)['batsman_runs'][-15:].plot(kind = 'barh', title = 'Batsmen list')\n",
    "    plt.xlabel('Runs scored')\n",
    "    plt.ylabel('Player Name')\n",
    "    pd.DataFrame.from_dict(Counter(merged[merged['season'].isin(season)].dropna(subset = ['player_dismissed']).loc[:, 'bowler'].values), orient = 'index').sort_values(0, \n",
    "                            ascending = True)[-15:].plot(kind = 'barh', title = 'bowlers List', legend = None)\n",
    "    plt.xlabel('No of Wickets')\n",
    "    plt.ylabel('Player Name')\n"
   ]
  },
  {
   "cell_type": "markdown",
   "metadata": {},
   "source": [
    "For player selection, consistency play and their play on last 2 or 3 years is more of an important factor."
   ]
  },
  {
   "cell_type": "markdown",
   "metadata": {},
   "source": [
    "if we were to consider the last 5 years b kumar has more wickets than most players. But in the last 2 years bumrah and rashid khan has more wickets than b Kumar."
   ]
  },
  {
   "cell_type": "code",
   "execution_count": null,
   "metadata": {},
   "outputs": [],
   "source": []
  }
 ],
 "metadata": {
  "kernelspec": {
   "display_name": "Python 3",
   "language": "python",
   "name": "python3"
  },
  "language_info": {
   "codemirror_mode": {
    "name": "ipython",
    "version": 3
   },
   "file_extension": ".py",
   "mimetype": "text/x-python",
   "name": "python",
   "nbconvert_exporter": "python",
   "pygments_lexer": "ipython3",
   "version": "3.6.3"
  }
 },
 "nbformat": 4,
 "nbformat_minor": 4
}
